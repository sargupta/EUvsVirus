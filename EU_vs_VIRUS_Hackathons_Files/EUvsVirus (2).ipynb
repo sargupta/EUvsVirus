{
  "nbformat": 4,
  "nbformat_minor": 0,
  "metadata": {
    "colab": {
      "name": "EUvsVirus.ipynb",
      "provenance": []
    },
    "kernelspec": {
      "display_name": "Python 3",
      "language": "python",
      "name": "python3"
    },
    "language_info": {
      "codemirror_mode": {
        "name": "ipython",
        "version": 3
      },
      "file_extension": ".py",
      "mimetype": "text/x-python",
      "name": "python",
      "nbconvert_exporter": "python",
      "pygments_lexer": "ipython3",
      "version": "3.6.10"
    }
  },
  "cells": [
    {
      "cell_type": "code",
      "metadata": {
        "colab_type": "code",
        "id": "rAh0Z3fX_szr",
        "colab": {}
      },
      "source": [
        "import numpy as np"
      ],
      "execution_count": 0,
      "outputs": []
    },
    {
      "cell_type": "code",
      "metadata": {
        "colab_type": "code",
        "id": "82Elac2NARQE",
        "colab": {}
      },
      "source": [
        "#sigma = 0.8"
      ],
      "execution_count": 0,
      "outputs": []
    },
    {
      "cell_type": "code",
      "metadata": {
        "colab_type": "code",
        "id": "RkQPyCwsBGwH",
        "colab": {}
      },
      "source": [
        "J_s = [5,4,3,2,1] \n",
        "p = 2.5\n",
        "R = [10000, 20000, 30000, 40000]  #Total Cashflow (/ assuming it as revenue)\n",
        "\n",
        "# Total number of tourists \n",
        "X = [1000, 2000, 3000, 4000]  # each time take only one value of X\n",
        "m = 150 #number of customers of a company\n",
        "c = 5\n",
        "n_i = [4,3,2,1] # Weight of month based on peak of tourism \n",
        "P = 0.7\n"
      ],
      "execution_count": 0,
      "outputs": []
    },
    {
      "cell_type": "code",
      "metadata": {
        "colab_type": "code",
        "id": "6q3RcEYZBl_i",
        "colab": {}
      },
      "source": [
        "c_in = [100, 1000, 5000, 20000]  #Cash in \n",
        "c_out = [5000, 8000, 1000]   #cash out"
      ],
      "execution_count": 0,
      "outputs": []
    },
    {
      "cell_type": "code",
      "metadata": {
        "colab_type": "code",
        "id": "WGQfCRCoIzDW",
        "outputId": "437ef183-969d-4835-9b33-9d7c94d69674",
        "colab": {
          "base_uri": "https://localhost:8080/",
          "height": 33
        }
      },
      "source": [
        "B_sus= []\n",
        "for i in c_in:\n",
        "    for j in c_out:\n",
        "        B_sus.append(i - j)\n",
        "\n",
        "B_sus"
      ],
      "execution_count": 0,
      "outputs": [
        {
          "output_type": "execute_result",
          "data": {
            "text/plain": [
              "[-4900, -7900, -900, -4000, -7000, 0, 0, -3000, 4000, 15000, 12000, 19000]"
            ]
          },
          "metadata": {
            "tags": []
          },
          "execution_count": 6
        }
      ]
    },
    {
      "cell_type": "code",
      "metadata": {
        "colab_type": "code",
        "id": "zKvxLAiQJsVj",
        "outputId": "3db32071-620e-49c5-b50a-2842f56784b8",
        "colab": {
          "base_uri": "https://localhost:8080/",
          "height": 82
        }
      },
      "source": [
        "p = []\n",
        "for l in n_i:\n",
        "    z = (l*P)\n",
        "    p.append(z*0.2)\n",
        "p"
      ],
      "execution_count": 0,
      "outputs": [
        {
          "output_type": "execute_result",
          "data": {
            "text/plain": [
              "[0.5599999999999999,\n",
              " 0.41999999999999993,\n",
              " 0.27999999999999997,\n",
              " 0.13999999999999999]"
            ]
          },
          "metadata": {
            "tags": []
          },
          "execution_count": 7
        }
      ]
    },
    {
      "cell_type": "code",
      "metadata": {
        "colab_type": "code",
        "id": "oK5Qvxj2LDam",
        "colab": {}
      },
      "source": [
        "p_p = [' '.join(['{:.2f}'.format(num) for num in p])]\n"
      ],
      "execution_count": 0,
      "outputs": []
    },
    {
      "cell_type": "code",
      "metadata": {
        "id": "qIsJxwjCeaCq",
        "colab_type": "code",
        "outputId": "e940e100-7197-42d8-de94-072b9258ce53",
        "colab": {
          "base_uri": "https://localhost:8080/",
          "height": 33
        }
      },
      "source": [
        "p_p"
      ],
      "execution_count": 0,
      "outputs": [
        {
          "output_type": "execute_result",
          "data": {
            "text/plain": [
              "['0.56 0.42 0.28 0.14']"
            ]
          },
          "metadata": {
            "tags": []
          },
          "execution_count": 9
        }
      ]
    },
    {
      "cell_type": "code",
      "metadata": {
        "colab_type": "code",
        "id": "qHZcQ81fOsk7",
        "outputId": "b6db6320-0509-448c-b598-69cf654960e4",
        "colab": {
          "base_uri": "https://localhost:8080/",
          "height": 33
        }
      },
      "source": [
        "type(p_p)"
      ],
      "execution_count": 0,
      "outputs": [
        {
          "output_type": "execute_result",
          "data": {
            "text/plain": [
              "list"
            ]
          },
          "metadata": {
            "tags": []
          },
          "execution_count": 10
        }
      ]
    },
    {
      "cell_type": "markdown",
      "metadata": {
        "colab_type": "text",
        "id": "pC_z7FprPrAx"
      },
      "source": [
        "B_s = sigma(J_s(p_p((R*m)/X_i))+ B_sus)"
      ]
    },
    {
      "cell_type": "code",
      "metadata": {
        "colab_type": "code",
        "id": "9m74_CBIO3Wg",
        "outputId": "616042bb-78bc-451d-f841-d4e59846bff4",
        "colab": {
          "base_uri": "https://localhost:8080/",
          "height": 33
        }
      },
      "source": [
        "x_i = []\n",
        "for r in R:\n",
        "    x_i.append((int((r*m)/X[0])))\n",
        "x_i"
      ],
      "execution_count": 0,
      "outputs": [
        {
          "output_type": "execute_result",
          "data": {
            "text/plain": [
              "[1500, 3000, 4500, 6000]"
            ]
          },
          "metadata": {
            "tags": []
          },
          "execution_count": 11
        }
      ]
    },
    {
      "cell_type": "code",
      "metadata": {
        "colab_type": "code",
        "id": "V7VS--VxQhpR",
        "colab": {}
      },
      "source": [
        "import math\n",
        "\n",
        "def sigmoid(x):\n",
        "  return 1 / (1 + math.exp(-x))"
      ],
      "execution_count": 0,
      "outputs": []
    },
    {
      "cell_type": "code",
      "metadata": {
        "colab_type": "code",
        "id": "HDtyinOQS5ni",
        "colab": {}
      },
      "source": [
        "p = np.array(p)"
      ],
      "execution_count": 0,
      "outputs": []
    },
    {
      "cell_type": "code",
      "metadata": {
        "colab_type": "code",
        "id": "80NMEaeLSjPu",
        "outputId": "a66a44b5-d838-47b8-f543-c13a93551648",
        "colab": {
          "base_uri": "https://localhost:8080/",
          "height": 277
        }
      },
      "source": [
        "a = []\n",
        "for i in x_i:\n",
        "    for j in p:\n",
        "        a.append(i*j)\n",
        "        \n",
        "a"
      ],
      "execution_count": 0,
      "outputs": [
        {
          "output_type": "execute_result",
          "data": {
            "text/plain": [
              "[839.9999999999999,\n",
              " 629.9999999999999,\n",
              " 419.99999999999994,\n",
              " 209.99999999999997,\n",
              " 1679.9999999999998,\n",
              " 1259.9999999999998,\n",
              " 839.9999999999999,\n",
              " 419.99999999999994,\n",
              " 2519.9999999999995,\n",
              " 1889.9999999999998,\n",
              " 1259.9999999999998,\n",
              " 629.9999999999999,\n",
              " 3359.9999999999995,\n",
              " 2519.9999999999995,\n",
              " 1679.9999999999998,\n",
              " 839.9999999999999]"
            ]
          },
          "metadata": {
            "tags": []
          },
          "execution_count": 16
        }
      ]
    },
    {
      "cell_type": "code",
      "metadata": {
        "id": "5m3is7k-ety2",
        "colab_type": "code",
        "outputId": "069be4d0-2cb9-4e08-8e85-3c15c944c6d3",
        "colab": {
          "base_uri": "https://localhost:8080/",
          "height": 33
        }
      },
      "source": [
        "A_1 = a[0] + B_sus[0]\n",
        "A_1"
      ],
      "execution_count": 0,
      "outputs": [
        {
          "output_type": "execute_result",
          "data": {
            "text/plain": [
              "-4060.0"
            ]
          },
          "metadata": {
            "tags": []
          },
          "execution_count": 23
        }
      ]
    },
    {
      "cell_type": "code",
      "metadata": {
        "id": "MUwQGuAmeyXg",
        "colab_type": "code",
        "colab": {}
      },
      "source": [
        "try:\n",
        "    sigmoid(A_1)\n",
        "except OverflowError:\n",
        "    float('inf')"
      ],
      "execution_count": 0,
      "outputs": []
    },
    {
      "cell_type": "code",
      "metadata": {
        "id": "4JjtCCWdHM3O",
        "colab_type": "code",
        "colab": {}
      },
      "source": [
        "import matplotlib.pyplot as plt\n",
        "import numpy as np"
      ],
      "execution_count": 0,
      "outputs": []
    },
    {
      "cell_type": "code",
      "metadata": {
        "id": "OsdqnLPIIgeP",
        "colab_type": "code",
        "colab": {}
      },
      "source": [
        "def graph(formula, x_range):  \n",
        "    y = np.array(x_range)  \n",
        "    x = eval(formula)\n",
        "    plt.plot(x,y)  \n",
        "    plt.show()"
      ],
      "execution_count": 0,
      "outputs": []
    },
    {
      "cell_type": "code",
      "metadata": {
        "id": "jEs6ZTgLgdgD",
        "colab_type": "code",
        "colab": {}
      },
      "source": [
        "import math\n",
        "x =range(0,25)"
      ],
      "execution_count": 0,
      "outputs": []
    },
    {
      "cell_type": "code",
      "metadata": {
        "id": "NL0c_vMZItCL",
        "colab_type": "code",
        "colab": {}
      },
      "source": [
        ""
      ],
      "execution_count": 0,
      "outputs": []
    },
    {
      "cell_type": "code",
      "metadata": {
        "id": "rx8gE0jZMVPY",
        "colab_type": "code",
        "outputId": "7d3d23df-089c-4fdc-c094-e997f8115747",
        "colab": {
          "base_uri": "https://localhost:8080/",
          "height": 292
        }
      },
      "source": [
        "\n",
        "x =range(1,25)\n",
        "y =[]\n",
        "for i in x:\n",
        "    y.append(i**5 +  i**3 + i**2 + i)\n",
        "\n",
        "plt.plot(x,y)"
      ],
      "execution_count": 0,
      "outputs": [
        {
          "output_type": "execute_result",
          "data": {
            "text/plain": [
              "[<matplotlib.lines.Line2D at 0x7f209dbeb4a8>]"
            ]
          },
          "metadata": {
            "tags": []
          },
          "execution_count": 62
        },
        {
          "output_type": "display_data",
          "data": {
            "image/png": "[encoded data removed]",
            "text/plain": [
              "<Figure size 432x288 with 1 Axes>"
            ]
          },
          "metadata": {
            "tags": [],
            "needs_background": "light"
          }
        }
      ]
    },
    {
      "cell_type": "code",
      "metadata": {
        "id": "6WB_dAsZGn2P",
        "colab_type": "code",
        "outputId": "bdf650f8-ea57-4327-afec-4f36a8c47236",
        "colab": {
          "base_uri": "https://localhost:8080/",
          "height": 292
        }
      },
      "source": [
        "plt.plot(x,y)"
      ],
      "execution_count": 0,
      "outputs": [
        {
          "output_type": "execute_result",
          "data": {
            "text/plain": [
              "[<matplotlib.lines.Line2D at 0x7f209dc9d5c0>]"
            ]
          },
          "metadata": {
            "tags": []
          },
          "execution_count": 60
        },
        {
          "output_type": "display_data",
          "data": {
            "image/png": "[encoded data removed]",
            "text/plain": [
              "<Figure size 432x288 with 1 Axes>"
            ]
          },
          "metadata": {
            "tags": [],
            "needs_background": "light"
          }
        }
      ]
    },
    {
      "cell_type": "code",
      "metadata": {
        "id": "uiqTYPz_GqOt",
        "colab_type": "code",
        "colab": {}
      },
      "source": [
        "import math\n",
        "import matplotlib.pyplot as plt \n",
        "\n",
        "x=range(0,25)\n",
        "\n",
        "y =[]\n",
        "\n",
        "zeroth = 0\n",
        "firsth = 1\n",
        "second = 2\n",
        "third = 3\n",
        "fifth = 5\n",
        "\n",
        "for i in x:\n",
        "    \n",
        "    if (x[i] <= 5):\n",
        "        y.append(zeroth*i**5 +  zeroth*i**3 + zeroth*i**2 + 8*i + 2)\n",
        "    elif x[i] in (6,10):\n",
        "        y.append(zeroth*i**5 +  zeroth*i**3 + second*i**2 + 8*i + 2)\n",
        "    elif x[i] in (11, 15):\n",
        "        y.append(zeroth*i**5 +  third*i**3 + second*i**2 + 8*i + 2)\n",
        "    else:\n",
        "        y.append(fifth*i**5 +  third*i**3 + second*i**2 + 8*i + 2)\n",
        "\n",
        "\n",
        "\n",
        "    "
      ],
      "execution_count": 0,
      "outputs": []
    },
    {
      "cell_type": "code",
      "metadata": {
        "id": "IYyAVbc5ULlv",
        "colab_type": "code",
        "outputId": "55c8ad53-6162-446e-a07c-c9b422c0252f",
        "colab": {
          "base_uri": "https://localhost:8080/",
          "height": 292
        }
      },
      "source": [
        "plt.plot(x,y)"
      ],
      "execution_count": 0,
      "outputs": [
        {
          "output_type": "execute_result",
          "data": {
            "text/plain": [
              "[<matplotlib.lines.Line2D at 0x7f209db84278>]"
            ]
          },
          "metadata": {
            "tags": []
          },
          "execution_count": 67
        },
        {
          "output_type": "display_data",
          "data": {
            "image/png": "[encoded data removed]",
            "text/plain": [
              "<Figure size 432x288 with 1 Axes>"
            ]
          },
          "metadata": {
            "tags": [],
            "needs_background": "light"
          }
        }
      ]
    },
    {
      "cell_type": "markdown",
      "metadata": {
        "id": "TH95pfH4j3gA",
        "colab_type": "text"
      },
      "source": [
        "# Scenarios"
      ]
    },
    {
      "cell_type": "markdown",
      "metadata": {
        "id": "Y2ewKPvMjw2Z",
        "colab_type": "text"
      },
      "source": [
        "May 15 (2) = [(15+15), (15+30)];\n",
        "\n",
        "May 30 (2) = [(30+ 30), (30+45)];\n",
        "\n",
        "June 15 (2) = [(45+45), (45+60)];\n",
        "\n",
        "July 15 (2) = [(75+30), (75+45)];\n"
      ]
    },
    {
      "cell_type": "code",
      "metadata": {
        "id": "qH-poU-6UqLv",
        "colab_type": "code",
        "outputId": "72fc348c-40d8-42c2-da42-624071f224d3",
        "colab": {
          "base_uri": "https://localhost:8080/",
          "height": 66
        }
      },
      "source": [
        "days = [45, 60, 75, 90, 105, 120]\n",
        "\n",
        "for d in days:\n",
        "    if (d < 45):\n",
        "        print('Scenario: 1')\n",
        "    elif d in (46, 75):\n",
        "        print('Scenario: 2')\n",
        "    elif d in (76, 105):\n",
        "        print('Scenario: 3')\n",
        "    elif d in (106, 120):\n",
        "        print('Scenario: 4')"
      ],
      "execution_count": 0,
      "outputs": [
        {
          "output_type": "stream",
          "text": [
            "Scenario: 2\n",
            "Scenario: 3\n",
            "Scenario: 4\n"
          ],
          "name": "stdout"
        }
      ]
    },
    {
      "cell_type": "code",
      "metadata": {
        "id": "ChDMtN5ckCUl",
        "colab_type": "code",
        "outputId": "3e29ceeb-1de3-4b35-d294-97d0a1cb8f5a",
        "colab": {
          "base_uri": "https://localhost:8080/",
          "height": 223
        }
      },
      "source": [
        "days = [45, 60, 75, 90, 105, 120]\n",
        "for d in days:\n",
        "    if (days[d] < 45):\n",
        "        print('Scenario: 1')\n",
        "    elif days[d] in (46, 75):\n",
        "        print('Scenario: 2')\n",
        "    elif days[d] in (76, 105):\n",
        "        print('Scenario: 3')\n",
        "    elif days[d] in (106, 120):\n",
        "        print('Scenario: 4')"
      ],
      "execution_count": 0,
      "outputs": [
        {
          "output_type": "error",
          "ename": "IndexError",
          "evalue": "ignored",
          "traceback": [
            "\u001b[0;31m---------------------------------------------------------------------------\u001b[0m",
            "\u001b[0;31mIndexError\u001b[0m                                Traceback (most recent call last)",
            "\u001b[0;32m<ipython-input-72-29edf95407c7>\u001b[0m in \u001b[0;36m<module>\u001b[0;34m()\u001b[0m\n\u001b[1;32m      1\u001b[0m \u001b[0mdays\u001b[0m \u001b[0;34m=\u001b[0m \u001b[0;34m[\u001b[0m\u001b[0;36m45\u001b[0m\u001b[0;34m,\u001b[0m \u001b[0;36m60\u001b[0m\u001b[0;34m,\u001b[0m \u001b[0;36m75\u001b[0m\u001b[0;34m,\u001b[0m \u001b[0;36m90\u001b[0m\u001b[0;34m,\u001b[0m \u001b[0;36m105\u001b[0m\u001b[0;34m,\u001b[0m \u001b[0;36m120\u001b[0m\u001b[0;34m]\u001b[0m\u001b[0;34m\u001b[0m\u001b[0;34m\u001b[0m\u001b[0m\n\u001b[1;32m      2\u001b[0m \u001b[0;32mfor\u001b[0m \u001b[0md\u001b[0m \u001b[0;32min\u001b[0m \u001b[0mdays\u001b[0m\u001b[0;34m:\u001b[0m\u001b[0;34m\u001b[0m\u001b[0;34m\u001b[0m\u001b[0m\n\u001b[0;32m----> 3\u001b[0;31m     \u001b[0;32mif\u001b[0m \u001b[0;34m(\u001b[0m\u001b[0mdays\u001b[0m\u001b[0;34m[\u001b[0m\u001b[0md\u001b[0m\u001b[0;34m]\u001b[0m \u001b[0;34m<\u001b[0m \u001b[0;36m45\u001b[0m\u001b[0;34m)\u001b[0m\u001b[0;34m:\u001b[0m\u001b[0;34m\u001b[0m\u001b[0;34m\u001b[0m\u001b[0m\n\u001b[0m\u001b[1;32m      4\u001b[0m         \u001b[0mprint\u001b[0m\u001b[0;34m(\u001b[0m\u001b[0;34m'Scenario: 1'\u001b[0m\u001b[0;34m)\u001b[0m\u001b[0;34m\u001b[0m\u001b[0;34m\u001b[0m\u001b[0m\n\u001b[1;32m      5\u001b[0m     \u001b[0;32melif\u001b[0m \u001b[0mdays\u001b[0m\u001b[0;34m[\u001b[0m\u001b[0md\u001b[0m\u001b[0;34m]\u001b[0m \u001b[0;32min\u001b[0m \u001b[0;34m(\u001b[0m\u001b[0;36m46\u001b[0m\u001b[0;34m,\u001b[0m \u001b[0;36m75\u001b[0m\u001b[0;34m)\u001b[0m\u001b[0;34m:\u001b[0m\u001b[0;34m\u001b[0m\u001b[0;34m\u001b[0m\u001b[0m\n",
            "\u001b[0;31mIndexError\u001b[0m: list index out of range"
          ]
        }
      ]
    },
    {
      "cell_type": "code",
      "metadata": {
        "id": "qY8-7TxXk_I-",
        "colab_type": "code",
        "colab": {}
      },
      "source": [
        ""
      ],
      "execution_count": 0,
      "outputs": []
    },
    {
      "cell_type": "markdown",
      "metadata": {
        "id": "Hsr6-eD5RrMo",
        "colab_type": "text"
      },
      "source": [
        "# Mathematical Modeling:"
      ]
    },
    {
      "cell_type": "markdown",
      "metadata": {
        "id": "wYKj6j3wR7Pt",
        "colab_type": "text"
      },
      "source": [
        "##Assumptions:\n",
        "\n",
        "1.   Taking revenue of a city into consideration. \n",
        "2.   Only considering 4 different scenarios with 2 sub cases.\n",
        "\n"
      ]
    },
    {
      "cell_type": "markdown",
      "metadata": {
        "id": "ghEAHJfjTK2R",
        "colab_type": "text"
      },
      "source": [
        "## **Task_1:** When the SME may get bankrupt?\n",
        "\n",
        "### CASH IS KING ###\n",
        "Compnies go bankrupt not because they don't generate revenue anymore but because they fail to get Cash in.\n",
        "This is an evaluation of total cashflow for the SME.\n",
        "\n",
        "- *Where we stand out in this calcultion is we have considered the lockdown period of both the host and the source country of tourists.*\n",
        "\n",
        "\n",
        "> Total reserve cash of SME = $C$\n",
        "\n",
        "> Cash getting in to SME = $C_{in}$\n",
        "\n",
        "> Cash getting out from SME = $C_{out}$\n",
        "\n",
        "> Cash Flow = $C_{f}$\n",
        "\n",
        "\n",
        "---\n",
        "\n",
        "\n",
        "\n",
        "$C_{in} = \\sum_{t = 1}^n(Tourists_{i} + Operators_{i} + Others_{i})$\n",
        "\n",
        "\n",
        "\n",
        "$C_{out} = \\sum_{t = 1}^n(Salary_{i} + Rent_{i} + Bills_{i}+ Others_{i})$\n",
        "\n",
        "$C_{f} = C + (C_{in} - C_{out})$\n",
        "\n",
        "\n",
        "- t is month\n",
        "---\n",
        "Given the scenarios, \n",
        "\n",
        "## In which month, the $C_{in} = 0$ ?\n"
      ]
    },
    {
      "cell_type": "markdown",
      "metadata": {
        "id": "CQtjljocxnVD",
        "colab_type": "text"
      },
      "source": [
        "###Scenario 1:\n",
        "\n",
        "For 30 dayas:\n"
      ]
    },
    {
      "cell_type": "code",
      "metadata": {
        "id": "MCSaAbtNtlPP",
        "colab_type": "code",
        "outputId": "5c4d0f7b-346a-46a3-aa53-b69048a750f5",
        "colab": {
          "base_uri": "https://localhost:8080/",
          "height": 33
        }
      },
      "source": [
        "C_in = 0\n",
        "C_out = 10000\n",
        "C = 50000\n",
        "\n",
        "C_f = C + (C_in -C_out)\n",
        "C_f"
      ],
      "execution_count": 0,
      "outputs": [
        {
          "output_type": "execute_result",
          "data": {
            "text/plain": [
              "40000"
            ]
          },
          "metadata": {
            "tags": []
          },
          "execution_count": 125
        }
      ]
    },
    {
      "cell_type": "markdown",
      "metadata": {
        "id": "WBO-SEYWyTZM",
        "colab_type": "text"
      },
      "source": [
        "## Scenario 2:\n",
        "For 60 days:\n"
      ]
    },
    {
      "cell_type": "code",
      "metadata": {
        "id": "hWqiMKNPyfID",
        "colab_type": "code",
        "outputId": "144aa139-2d66-4f60-b25a-ae142ee79991",
        "colab": {
          "base_uri": "https://localhost:8080/",
          "height": 33
        }
      },
      "source": [
        "C_in = 0\n",
        "list_C = [1, 2, 3, 4, 5,6, 7, 8, 9, 10, 11, 12]\n",
        "\n",
        "C_out = 10000\n",
        "C = 50000\n",
        "C_f = C + (C_in -C_out)\n",
        "C_f"
      ],
      "execution_count": 0,
      "outputs": [
        {
          "output_type": "execute_result",
          "data": {
            "text/plain": [
              "40000"
            ]
          },
          "metadata": {
            "tags": []
          },
          "execution_count": 154
        }
      ]
    },
    {
      "cell_type": "code",
      "metadata": {
        "id": "TKtEXIwp7GAU",
        "colab_type": "code",
        "outputId": "b50e9a45-5663-439e-e022-f53871a3eada",
        "colab": {
          "base_uri": "https://localhost:8080/",
          "height": 33
        }
      },
      "source": [
        "-(0 - C - C_in) / 10000"
      ],
      "execution_count": 0,
      "outputs": [
        {
          "output_type": "execute_result",
          "data": {
            "text/plain": [
              "5.0"
            ]
          },
          "metadata": {
            "tags": []
          },
          "execution_count": 153
        }
      ]
    },
    {
      "cell_type": "code",
      "metadata": {
        "id": "3PxD2UaJ7Y76",
        "colab_type": "code",
        "colab": {}
      },
      "source": [
        "C_f - C - C_in = -C_out -> C_out = C + C_in - C_f ---> c = (C + C_in - C_f) / 10000"
      ],
      "execution_count": 0,
      "outputs": []
    },
    {
      "cell_type": "markdown",
      "metadata": {
        "id": "YP4AAROxzUTs",
        "colab_type": "text"
      },
      "source": [
        "## Scenario 0:\n",
        "For 30 days:\n",
        "\n"
      ]
    },
    {
      "cell_type": "code",
      "metadata": {
        "id": "NNJi2MqSzZvj",
        "colab_type": "code",
        "outputId": "42bfd8b6-4926-4ff1-b4a8-645861aa15bd",
        "colab": {
          "base_uri": "https://localhost:8080/",
          "height": 212
        }
      },
      "source": [
        "C_in = 0\n",
        "list_C = [1, 2, 3, 4, 5,6, 7, 8, 9, 10, 11, 12]\n",
        "for c in list_C:\n",
        "    C_out = []\n",
        "    C_out.append(10000*c)\n",
        "    C = 50000\n",
        "    for out in C_out:\n",
        "        print('Month: {}  '.format(c), C + (C_in -out))"
      ],
      "execution_count": 0,
      "outputs": [
        {
          "output_type": "stream",
          "text": [
            "Month: 1   40000\n",
            "Month: 2   30000\n",
            "Month: 3   20000\n",
            "Month: 4   10000\n",
            "Month: 5   0\n",
            "Month: 6   -10000\n",
            "Month: 7   -20000\n",
            "Month: 8   -30000\n",
            "Month: 9   -40000\n",
            "Month: 10   -50000\n",
            "Month: 11   -60000\n",
            "Month: 12   -70000\n"
          ],
          "name": "stdout"
        }
      ]
    },
    {
      "cell_type": "code",
      "metadata": {
        "id": "Y2xABlC5A4r8",
        "colab_type": "code",
        "outputId": "671a8d30-aa59-499f-8a17-3c257e789648",
        "colab": {
          "base_uri": "https://localhost:8080/",
          "height": 212
        }
      },
      "source": [
        "C_in = 0\n",
        "\n",
        "list_C = [1, 2, 3, 4, 5, 6, 7, 8, 9, 10, 11, 12]\n",
        "\n",
        "for c in list_C:\n",
        "    if c < 3:\n",
        "        C_in = 0\n",
        "        C_out = []\n",
        "        C_out.append(10000*c)\n",
        "        C = 50000\n",
        "        for out in C_out:\n",
        "            print('Month: {}  '.format(c), C + (C_in -out))\n",
        "    else:\n",
        "        #C_in = 10000\n",
        "        #C_in += 10000\n",
        "        C_out = []\n",
        "        C_out.append(10000*c)\n",
        "        C = 50000\n",
        "        for out in C_out:\n",
        "            print('Month: {}  '.format(c), C + (C_in -out))"
      ],
      "execution_count": 0,
      "outputs": [
        {
          "output_type": "stream",
          "text": [
            "Month: 1   40000\n",
            "Month: 2   30000\n",
            "Month: 3   20000\n",
            "Month: 4   10000\n",
            "Month: 5   0\n",
            "Month: 6   -10000\n",
            "Month: 7   -20000\n",
            "Month: 8   -30000\n",
            "Month: 9   -40000\n",
            "Month: 10   -50000\n",
            "Month: 11   -60000\n",
            "Month: 12   -70000\n"
          ],
          "name": "stdout"
        }
      ]
    },
    {
      "cell_type": "code",
      "metadata": {
        "id": "6GuoBJW39NTw",
        "colab_type": "code",
        "outputId": "38271fd4-bc2a-40df-9b6b-55196732f5c3",
        "colab": {
          "base_uri": "https://localhost:8080/",
          "height": 212
        }
      },
      "source": [
        "C_in = 5000\n",
        "\n",
        "list_C = [1, 2, 3, 4, 5,6, 7, 8, 9, 10, 11, 12]\n",
        "\n",
        "for c in list_C:\n",
        "    if c < 3:\n",
        "        C_in = 0\n",
        "        C_out = []\n",
        "        C_out.append(5000*c)\n",
        "        C = 50000\n",
        "        for out in C_out:\n",
        "            print('Month: {}  '.format(c), C + (C_in -out))\n",
        "    else:\n",
        "        #C_in = 10000\n",
        "        C_in += 5000+ (5000*(0.05))\n",
        "        C_out = []\n",
        "        C_out.append(10000*c)\n",
        "        C = 50000\n",
        "        for out in C_out:\n",
        "            print('Month: {}  '.format(c), C + (C_in -out))"
      ],
      "execution_count": 0,
      "outputs": [
        {
          "output_type": "stream",
          "text": [
            "Month: 1   45000\n",
            "Month: 2   40000\n",
            "Month: 3   25250.0\n",
            "Month: 4   20500.0\n",
            "Month: 5   15750.0\n",
            "Month: 6   11000.0\n",
            "Month: 7   6250.0\n",
            "Month: 8   1500.0\n",
            "Month: 9   -3250.0\n",
            "Month: 10   -8000.0\n",
            "Month: 11   -12750.0\n",
            "Month: 12   -17500.0\n"
          ],
          "name": "stdout"
        }
      ]
    },
    {
      "cell_type": "markdown",
      "metadata": {
        "id": "U2sWuw6bis7v",
        "colab_type": "text"
      },
      "source": [
        "\n",
        "\n",
        "---\n",
        "\n",
        "\n",
        "\n",
        "---\n",
        "\n",
        "\n",
        "\n",
        "---\n",
        "\n"
      ]
    },
    {
      "cell_type": "code",
      "metadata": {
        "id": "KVXA1yi7vH0P",
        "colab_type": "code",
        "outputId": "ab3916e8-6115-488b-a548-d402b0b33115",
        "colab": {
          "base_uri": "https://localhost:8080/",
          "height": 191
        }
      },
      "source": [
        "C_in "
      ],
      "execution_count": 0,
      "outputs": [
        {
          "output_type": "error",
          "ename": "TypeError",
          "evalue": "ignored",
          "traceback": [
            "\u001b[0;31m---------------------------------------------------------------------------\u001b[0m",
            "\u001b[0;31mTypeError\u001b[0m                                 Traceback (most recent call last)",
            "\u001b[0;32m<ipython-input-124-4b6603388303>\u001b[0m in \u001b[0;36m<module>\u001b[0;34m()\u001b[0m\n\u001b[1;32m      2\u001b[0m \u001b[0;32mfor\u001b[0m \u001b[0mt\u001b[0m \u001b[0;32min\u001b[0m \u001b[0mT\u001b[0m\u001b[0;34m:\u001b[0m\u001b[0;34m\u001b[0m\u001b[0;34m\u001b[0m\u001b[0m\n\u001b[1;32m      3\u001b[0m     \u001b[0;32mfor\u001b[0m \u001b[0mi\u001b[0m\u001b[0;34m,\u001b[0m \u001b[0mj\u001b[0m\u001b[0;34m,\u001b[0m \u001b[0mk\u001b[0m \u001b[0;32min\u001b[0m \u001b[0mTor\u001b[0m\u001b[0;34m,\u001b[0m \u001b[0mOther\u001b[0m\u001b[0;34m,\u001b[0m\u001b[0mOperator\u001b[0m\u001b[0;34m:\u001b[0m\u001b[0;34m\u001b[0m\u001b[0;34m\u001b[0m\u001b[0m\n\u001b[0;32m----> 4\u001b[0;31m         \u001b[0msum\u001b[0m\u001b[0;34m(\u001b[0m\u001b[0mi\u001b[0m\u001b[0;34m+\u001b[0m\u001b[0mj\u001b[0m\u001b[0;34m+\u001b[0m\u001b[0mk\u001b[0m\u001b[0;34m)\u001b[0m\u001b[0;34m\u001b[0m\u001b[0;34m\u001b[0m\u001b[0m\n\u001b[0m",
            "\u001b[0;31mTypeError\u001b[0m: 'int' object is not iterable"
          ]
        }
      ]
    },
    {
      "cell_type": "code",
      "metadata": {
        "id": "lnKwwkJMvulb",
        "colab_type": "code",
        "colab": {}
      },
      "source": [
        "Tor = [1, 5000, 50000]"
      ],
      "execution_count": 0,
      "outputs": []
    },
    {
      "cell_type": "markdown",
      "metadata": {
        "id": "ymjAiYxciwQD",
        "colab_type": "text"
      },
      "source": [
        "# Data"
      ]
    },
    {
      "cell_type": "markdown",
      "metadata": {
        "id": "BaOYillTiqIA",
        "colab_type": "text"
      },
      "source": [
        "## Reserve Cash Data"
      ]
    },
    {
      "cell_type": "code",
      "metadata": {
        "id": "U4852A_7SqlV",
        "colab_type": "code",
        "colab": {}
      },
      "source": [
        "C = range(1000000, 10000, -10000)"
      ],
      "execution_count": 0,
      "outputs": []
    },
    {
      "cell_type": "code",
      "metadata": {
        "id": "l53MenrLgoSW",
        "colab_type": "code",
        "colab": {}
      },
      "source": [
        "reserve_cash_data = []\n",
        "for c in C:\n",
        "    reserve_cash_data.append(c)\n"
      ],
      "execution_count": 0,
      "outputs": []
    },
    {
      "cell_type": "code",
      "metadata": {
        "id": "7jqDxq16gpQk",
        "colab_type": "code",
        "outputId": "cd2ecbdc-1189-4f54-b2a9-dcc4843b6522",
        "colab": {
          "base_uri": "https://localhost:8080/",
          "height": 33
        }
      },
      "source": [
        "len(reserve_cash_data)"
      ],
      "execution_count": 0,
      "outputs": [
        {
          "output_type": "execute_result",
          "data": {
            "text/plain": [
              "99"
            ]
          },
          "metadata": {
            "tags": []
          },
          "execution_count": 118
        }
      ]
    },
    {
      "cell_type": "markdown",
      "metadata": {
        "id": "p5Pj2c9xinpK",
        "colab_type": "text"
      },
      "source": [
        "## Tourist Data"
      ]
    },
    {
      "cell_type": "code",
      "metadata": {
        "id": "A0P-vJXWwFpW",
        "colab_type": "code",
        "outputId": "e6f1fcaf-c76a-4f93-fc17-3d083798db61",
        "colab": {
          "base_uri": "https://localhost:8080/",
          "height": 33
        }
      },
      "source": [
        "# Earning from Operator data\n",
        "Operator = []\n",
        "Op = range (100, 50000, 500)\n",
        "for t in Op:\n",
        "    Operator.append(t)\n",
        "len(Operator)"
      ],
      "execution_count": 0,
      "outputs": [
        {
          "output_type": "execute_result",
          "data": {
            "text/plain": [
              "100"
            ]
          },
          "metadata": {
            "tags": []
          },
          "execution_count": 1
        }
      ]
    },
    {
      "cell_type": "code",
      "metadata": {
        "id": "vOIzuWh7htOo",
        "colab_type": "code",
        "outputId": "35914895-41e4-4800-88ce-551c1192c116",
        "colab": {
          "base_uri": "https://localhost:8080/",
          "height": 33
        }
      },
      "source": [
        "# Earning from each tourist data\n",
        "Tourist_earning_data = []\n",
        "T = range (100, 50000, 500)\n",
        "for t in T:\n",
        "    Tourist_earning_data.append(t)\n",
        "len(Tourist_earning_data)"
      ],
      "execution_count": 0,
      "outputs": [
        {
          "output_type": "execute_result",
          "data": {
            "text/plain": [
              "100"
            ]
          },
          "metadata": {
            "tags": []
          },
          "execution_count": 104
        }
      ]
    },
    {
      "cell_type": "markdown",
      "metadata": {
        "id": "4vHLQkoTi5fg",
        "colab_type": "text"
      },
      "source": [
        "## Number of Tourists Data:"
      ]
    },
    {
      "cell_type": "code",
      "metadata": {
        "id": "jimJcAUviYJ1",
        "colab_type": "code",
        "outputId": "162a80ce-90db-4c08-bf94-d18724eaeaf8",
        "colab": {
          "base_uri": "https://localhost:8080/",
          "height": 33
        }
      },
      "source": [
        "# Number of tourists (a range of total number of tourist in a City)\n",
        "Tourist_number_data = []\n",
        "T = range (0, 5000, -500)\n",
        "for t in T:\n",
        "    Tourist_number_data.append(t)\n",
        "len(Tourist_number_data)"
      ],
      "execution_count": 0,
      "outputs": [
        {
          "output_type": "execute_result",
          "data": {
            "text/plain": [
              "99"
            ]
          },
          "metadata": {
            "tags": []
          },
          "execution_count": 121
        }
      ]
    },
    {
      "cell_type": "markdown",
      "metadata": {
        "id": "43uyMqKBkg32",
        "colab_type": "text"
      },
      "source": [
        "## Others Data"
      ]
    },
    {
      "cell_type": "code",
      "metadata": {
        "id": "MTdPv1jckghp",
        "colab_type": "code",
        "outputId": "32b20539-2d23-4da0-bda5-2dd92ae99793",
        "colab": {
          "base_uri": "https://localhost:8080/",
          "height": 33
        }
      },
      "source": [
        "# Data for 'Other' types of expenses\n",
        "Other = []\n",
        "O = range(1000, 100000, 1000 )\n",
        "for o in O:\n",
        "    Other.append(o)\n",
        "\n",
        "len(Other)"
      ],
      "execution_count": 0,
      "outputs": [
        {
          "output_type": "execute_result",
          "data": {
            "text/plain": [
              "99"
            ]
          },
          "metadata": {
            "tags": []
          },
          "execution_count": 100
        }
      ]
    },
    {
      "cell_type": "code",
      "metadata": {
        "id": "V0xhB97jkGBs",
        "colab_type": "code",
        "outputId": "ba0d82a6-6609-49d6-e1db-6d5c1e1ba8e5",
        "colab": {
          "base_uri": "https://localhost:8080/",
          "height": 33
        }
      },
      "source": [
        "#Salary\n",
        "Salary = []\n",
        "Sa = range(1000, 100000, 1000 )\n",
        "for s in Sa:\n",
        "    Salary.append(Sa)\n",
        "\n",
        "len(Salary)"
      ],
      "execution_count": 0,
      "outputs": [
        {
          "output_type": "execute_result",
          "data": {
            "text/plain": [
              "99"
            ]
          },
          "metadata": {
            "tags": []
          },
          "execution_count": 106
        }
      ]
    },
    {
      "cell_type": "code",
      "metadata": {
        "id": "GkJxY41ploVg",
        "colab_type": "code",
        "outputId": "fd233bf2-3064-49a8-91a4-4a3c2b40e567",
        "colab": {
          "base_uri": "https://localhost:8080/",
          "height": 33
        }
      },
      "source": [
        "# Rent \n",
        "Rent = []\n",
        "Re = range(1000, 100000, 1000 )\n",
        "for r in Re:\n",
        "    Rent.append(o)\n",
        "\n",
        "len(Rent)"
      ],
      "execution_count": 0,
      "outputs": [
        {
          "output_type": "execute_result",
          "data": {
            "text/plain": [
              "99"
            ]
          },
          "metadata": {
            "tags": []
          },
          "execution_count": 107
        }
      ]
    },
    {
      "cell_type": "code",
      "metadata": {
        "id": "51CLs1G7l5e8",
        "colab_type": "code",
        "outputId": "ee609cc9-9715-408a-f0d5-94a19f946ac1",
        "colab": {
          "base_uri": "https://localhost:8080/",
          "height": 33
        }
      },
      "source": [
        "# Bills \n",
        "Bills = []\n",
        "Bi = range(500, 50000, 500 )\n",
        "for b in Bi:\n",
        "    Bills.append(o)\n",
        "\n",
        "len(Bills)"
      ],
      "execution_count": 0,
      "outputs": [
        {
          "output_type": "execute_result",
          "data": {
            "text/plain": [
              "99"
            ]
          },
          "metadata": {
            "tags": []
          },
          "execution_count": 112
        }
      ]
    },
    {
      "cell_type": "code",
      "metadata": {
        "id": "1hObkT6CmKoQ",
        "colab_type": "code",
        "colab": {}
      },
      "source": [
        ""
      ],
      "execution_count": 0,
      "outputs": []
    },
    {
      "cell_type": "markdown",
      "metadata": {
        "id": "q65Ji0R_h4Rh",
        "colab_type": "text"
      },
      "source": [
        "# Probability of Business Survival"
      ]
    },
    {
      "cell_type": "markdown",
      "metadata": {
        "id": "0Rod7wJduHJm",
        "colab_type": "text"
      },
      "source": [
        "Mean Lockdown Period:\n",
        "$S_{r} = 1/n\\sum_{i,j=1}^n(a_{ij} + b_{ij})$\n",
        "\n",
        "$r$ = four different scenarios=  $[1, 2, 3, 4]$  \\\n",
        "**Scenario 1:** (duration)\\\n",
        "$0 <S_{1} < 30$\\\n",
        "$31 <S_{2} < 60$\\\n",
        "$61< S_{3} < 90$\\\n",
        "$91<S_{4} < 120$\\\n",
        "a = localdown period of host country (from day 1 to the potential end date)\\\n",
        "b = lockdown period of guest country (from day 1 to the potential end date)\n",
        "\n",
        "i = strict restrictions \\\n",
        "j = loose restrictions\n",
        "\n",
        " - when in for loop : $a_{ij}  = (i+j)$  and $b_{ij}  = (i+j)$\\\n"
      ]
    },
    {
      "cell_type": "code",
      "metadata": {
        "id": "ST3t3kjIt0C9",
        "colab_type": "code",
        "colab": {}
      },
      "source": [
        "J_\n",
        "B = \\sigma(A)\n"
      ],
      "execution_count": 0,
      "outputs": []
    },
    {
      "cell_type": "markdown",
      "metadata": {
        "id": "I-CHhH159Vm6",
        "colab_type": "text"
      },
      "source": [
        "## Surviaval rate of the company in a Given Scenario:\n",
        "\n",
        "We are helping SMEs to get necessary fund\n",
        "- we are doing value analysis of a SME. \n",
        "We are helping the SMEs by providing them their rate of survivability given different lockdown scenarios. \n",
        "\n",
        "\n",
        "Inside Euronext, a SME Rating Agency:\n",
        "With the rating provided by Inside Euronext, SMEs can easily get necessary support from our network Banks, Governments, or even from the private investors because of our the purely advanced mathematics backed trustworthy rating method. \n",
        "\n",
        "\n",
        "---\n",
        "\n",
        "\n",
        "\n",
        "\n",
        "\n",
        "\n",
        "---\n",
        "**Why do World needs it?**\n",
        "Let's take Tourism industry as an example. \n",
        "There are 2.3 million businesses and around 27.3 million jobs closely linked with SMEs, which contributes 10.3% of overall EU's GDP. \n",
        "\n",
        "If we do not take immidiate preventive measures to help SMEs, it will have ripple effect on our economy, on unemployment rate and on each of us. Now, the question is, how do we prioritise the preventive measures for different  SMEs? How does a financial institutions really know, to the SME they are lending money, really needs the money? How do we prioritise the need and distribution of money? \n",
        "\n",
        "And that's where we come in. \n",
        "\n",
        "We help SMEs evaluate their financial needs and their rate of survivability given different lockdown scenarios. \n",
        "\n",
        "This will help the SMEs to revive themselves  as well as revive the economy in the current downturn of the economy. \n",
        "\n",
        "\n",
        "**Emphasise**\n",
        "We need to evaluate and rate the same SMEs before its too late. Same as we do medical testing for the potential patients with Coronavirus as soon as we find any symptom. \n"
      ]
    },
    {
      "cell_type": "markdown",
      "metadata": {
        "id": "0cGsXP3FK5fZ",
        "colab_type": "text"
      },
      "source": [
        "Trust with Quality, the two fundamental elements of our business. \n",
        "We would like to be the breeze of trust between SMEs and the financial institution or bodies keeping the quality in the core of our business."
      ]
    },
    {
      "cell_type": "code",
      "metadata": {
        "id": "jIPBd6o08Mbl",
        "colab_type": "code",
        "colab": {}
      },
      "source": [
        "(1- (lockdown_month/bankrupt_month))*100"
      ],
      "execution_count": 0,
      "outputs": []
    },
    {
      "cell_type": "code",
      "metadata": {
        "id": "rmn2vR9h5woe",
        "colab_type": "code",
        "colab": {}
      },
      "source": [
        "Rating of the SME = {'AAA':95%, 'AA': 90, 'A':80, 'B+':6, 'B':5, 'C+':'4', 'C':3, 'D+':2, 'D':1}"
      ],
      "execution_count": 0,
      "outputs": []
    }
  ]
}